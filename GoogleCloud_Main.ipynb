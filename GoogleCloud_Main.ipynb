{
 "cells": [
  {
   "cell_type": "code",
   "execution_count": 1,
   "metadata": {
    "collapsed": true
   },
   "outputs": [],
   "source": [
    "import scipy.io as sio\n",
    "import numpy as np\n",
    "import os\n",
    "import fileinput\n",
    "import plotly.graph_objs as go\n",
    "import sklearn\n",
    "from scipy.cluster.vq import whiten\n",
    "from sklearn import cluster\n",
    "from sklearn import manifold\n",
    "from sklearn.decomposition import PCA\n",
    "from sklearn import decomposition\n",
    "import matplotlib.pyplot as plt\n",
    "import plotly.plotly as py\n",
    "from sklearn.decomposition import PCA, KernelPCA\n",
    "from sklearn.datasets import make_circles\n",
    "%matplotlib inline"
   ]
  },
  {
   "cell_type": "code",
   "execution_count": 2,
   "metadata": {
    "collapsed": false
   },
   "outputs": [
    {
     "name": "stdout",
     "output_type": "stream",
     "text": [
      "[40, ['20120213_seq1_01_01.mat', '20120213_seq1_01_02.mat', '20120213_seq2_01_01.mat', '20120213_seq2_01_02.mat', '20120326_seq3_01_01.mat', '20120326_seq3_01_02.mat', '20120423_seq10_01_01.mat', '20120423_seq10_01_02.mat', '20120423_seq11_01_01.mat', '20120423_seq11_01_02.mat', '20120423_seq1_01_01.mat', '20120423_seq1_01_02.mat', '20120423_seq2_01_01.mat', '20120423_seq2_01_02.mat', '20120423_seq3_01_01.mat', '20120423_seq3_01_02.mat', '20120423_seq4_01_01.mat', '20120423_seq4_01_02.mat', '20120423_seq6_01_01.mat', '20120423_seq6_01_02.mat', '20120423_seq8_01_01.mat', '20120423_seq8_01_02.mat', '20120423_seq9_01_01.mat', '20120423_seq9_01_02.mat', '20120430_seq10_01_01.mat', '20120430_seq10_01_02.mat', '20120430_seq11_01_01.mat', '20120430_seq11_01_02.mat', '20120430_seq12_01_01.mat', '20120430_seq12_01_02.mat', '20120430_seq2_01_01.mat', '20120430_seq2_01_02.mat', '20120430_seq3_01_01.mat', '20120430_seq3_01_02.mat', '20120430_seq5_01_01.mat', '20120430_seq5_01_02.mat', '20120430_seq7_01_01.mat', '20120430_seq7_01_02.mat', '20120430_seq9_01_01.mat', '20120430_seq9_01_02.mat']]\n"
     ]
    }
   ],
   "source": [
    "# Open all the folders and load the data for the features data FOLD_3 \n",
    "\n",
    "dic = {}\n",
    "number_of_files = 0\n",
    "name_of_files = list()\n",
    "path = r'C:/Users/pinouche/Documents/ImperialData/FOLD_3'\n",
    "\n",
    "for filename in os.listdir(path):\n",
    "    dic[filename] = sio.loadmat(path+'/'+filename)\n",
    "    number_of_files = number_of_files + 1\n",
    "    name_of_files.append(filename)\n",
    "    \n",
    "print([number_of_files,name_of_files])"
   ]
  },
  {
   "cell_type": "code",
   "execution_count": 3,
   "metadata": {
    "collapsed": false
   },
   "outputs": [
    {
     "name": "stdout",
     "output_type": "stream",
     "text": [
      "20\n"
     ]
    }
   ],
   "source": [
    "# Open the mean annotation folder and sort it to correspond to the features folders\n",
    "\n",
    "even_names_files = list()\n",
    "index = 0\n",
    "\n",
    "for name in name_of_files:\n",
    "    if(index%2 == 0):\n",
    "        even_names_files.append(name[:-10])\n",
    "    index += 1\n",
    "\n",
    "dic2 = {}\n",
    "number_of_files = 0\n",
    "path = r'C:/Users/pinouche/Documents/ImperialData/Annotations/two'\n",
    "\n",
    "for filename in even_names_files:\n",
    "    dic2[filename] = sio.loadmat(path+'/'+filename+'/'+'meanAnnotation.mat')\n",
    "    number_of_files = number_of_files + 1\n",
    "    \n",
    "print(number_of_files)\n",
    "\n",
    "sequences_shape = list()\n",
    "mean_annotations = list()\n",
    "\n",
    "for filename in even_names_files:\n",
    "    mean_annotations.append(dic2[filename]['annotations'])\n",
    "    sequences_shape.append(dic2[filename]['annotations'].shape[0])\n",
    "\n",
    "array_annotations = np.concatenate(np.asarray(mean_annotations), axis=0)"
   ]
  },
  {
   "cell_type": "code",
   "execution_count": 4,
   "metadata": {
    "collapsed": true
   },
   "outputs": [],
   "source": [
    "# Getting the features data into usable matrix format\n",
    "\n",
    "def dataMatrix(array1, array2):\n",
    "\n",
    "    person1 = list()\n",
    "    person2 = list()\n",
    "\n",
    "    for frame in range(0, array1.shape[2]):\n",
    "        for sift in range(0,49):\n",
    "            person1.append(array1[sift,:,frame])\n",
    "            person2.append(array2[sift,:,frame])\n",
    "\n",
    "    tmp_arr_mat1 = np.reshape(np.asarray(person1),(array1.shape[2],6272))\n",
    "    tmp_arr_mat2 = np.reshape(np.asarray(person2),(array2.shape[2],6272))\n",
    "    frame_vector = np.concatenate([tmp_arr_mat1,tmp_arr_mat2], axis=1)\n",
    "    \n",
    "    return(frame_vector)\n"
   ]
  },
  {
   "cell_type": "code",
   "execution_count": 5,
   "metadata": {
    "collapsed": false
   },
   "outputs": [
    {
     "name": "stdout",
     "output_type": "stream",
     "text": [
      "(20640, 12544)\n"
     ]
    }
   ],
   "source": [
    "# Get all the values from the SIFT values for each of the frame from the dictionnary\n",
    "\n",
    "key=0\n",
    "concat = []\n",
    "\n",
    "for val in name_of_files:\n",
    "    if(key%2 == 0):\n",
    "        person1 = dic[val]['SIFT']\n",
    "    else:\n",
    "        person2 = dic[val]['SIFT']\n",
    "        concat.append(dataMatrix(person1, dic[val]['SIFT']))\n",
    "    key +=1\n",
    "        \n",
    "Big_list = np.concatenate(concat)\n",
    "print(Big_list.shape)\n"
   ]
  },
  {
   "cell_type": "code",
   "execution_count": 6,
   "metadata": {
    "collapsed": false
   },
   "outputs": [
    {
     "ename": "KeyboardInterrupt",
     "evalue": "",
     "output_type": "error",
     "traceback": [
      "\u001b[0;31m---------------------------------------------------------------------------\u001b[0m",
      "\u001b[0;31mKeyboardInterrupt\u001b[0m                         Traceback (most recent call last)",
      "\u001b[0;32m<ipython-input-6-fce659a0f3f0>\u001b[0m in \u001b[0;36m<module>\u001b[0;34m()\u001b[0m\n\u001b[1;32m      3\u001b[0m \u001b[0mn_components\u001b[0m \u001b[1;33m=\u001b[0m \u001b[1;36m500\u001b[0m\u001b[1;33m\u001b[0m\u001b[0m\n\u001b[1;32m      4\u001b[0m \u001b[0msvd\u001b[0m \u001b[1;33m=\u001b[0m \u001b[0mdecomposition\u001b[0m\u001b[1;33m.\u001b[0m\u001b[0mTruncatedSVD\u001b[0m\u001b[1;33m(\u001b[0m\u001b[0mn_components\u001b[0m\u001b[1;33m=\u001b[0m\u001b[0mn_components\u001b[0m\u001b[1;33m,\u001b[0m \u001b[0malgorithm\u001b[0m\u001b[1;33m=\u001b[0m\u001b[1;34m'arpack'\u001b[0m\u001b[1;33m)\u001b[0m\u001b[1;33m\u001b[0m\u001b[0m\n\u001b[0;32m----> 5\u001b[0;31m \u001b[0msvd\u001b[0m\u001b[1;33m.\u001b[0m\u001b[0mfit\u001b[0m\u001b[1;33m(\u001b[0m\u001b[0mBig_list\u001b[0m\u001b[1;33m)\u001b[0m\u001b[1;33m\u001b[0m\u001b[0m\n\u001b[0m\u001b[1;32m      6\u001b[0m \u001b[0mprint\u001b[0m\u001b[1;33m(\u001b[0m\u001b[0msvd\u001b[0m\u001b[1;33m.\u001b[0m\u001b[0mexplained_variance_ratio_\u001b[0m\u001b[1;33m.\u001b[0m\u001b[0msum\u001b[0m\u001b[1;33m(\u001b[0m\u001b[1;33m)\u001b[0m\u001b[1;33m)\u001b[0m\u001b[1;33m\u001b[0m\u001b[0m\n\u001b[1;32m      7\u001b[0m \u001b[1;33m\u001b[0m\u001b[0m\n",
      "\u001b[0;32mC:\\Users\\pinouche\\Anaconda3\\lib\\site-packages\\sklearn\\decomposition\\truncated_svd.py\u001b[0m in \u001b[0;36mfit\u001b[0;34m(self, X, y)\u001b[0m\n\u001b[1;32m    133\u001b[0m             \u001b[0mReturns\u001b[0m \u001b[0mthe\u001b[0m \u001b[0mtransformer\u001b[0m \u001b[0mobject\u001b[0m\u001b[1;33m.\u001b[0m\u001b[1;33m\u001b[0m\u001b[0m\n\u001b[1;32m    134\u001b[0m         \"\"\"\n\u001b[0;32m--> 135\u001b[0;31m         \u001b[0mself\u001b[0m\u001b[1;33m.\u001b[0m\u001b[0mfit_transform\u001b[0m\u001b[1;33m(\u001b[0m\u001b[0mX\u001b[0m\u001b[1;33m)\u001b[0m\u001b[1;33m\u001b[0m\u001b[0m\n\u001b[0m\u001b[1;32m    136\u001b[0m         \u001b[1;32mreturn\u001b[0m \u001b[0mself\u001b[0m\u001b[1;33m\u001b[0m\u001b[0m\n\u001b[1;32m    137\u001b[0m \u001b[1;33m\u001b[0m\u001b[0m\n",
      "\u001b[0;32mC:\\Users\\pinouche\\Anaconda3\\lib\\site-packages\\sklearn\\decomposition\\truncated_svd.py\u001b[0m in \u001b[0;36mfit_transform\u001b[0;34m(self, X, y)\u001b[0m\n\u001b[1;32m    157\u001b[0m \u001b[1;33m\u001b[0m\u001b[0m\n\u001b[1;32m    158\u001b[0m         \u001b[1;32mif\u001b[0m \u001b[0mself\u001b[0m\u001b[1;33m.\u001b[0m\u001b[0malgorithm\u001b[0m \u001b[1;33m==\u001b[0m \u001b[1;34m\"arpack\"\u001b[0m\u001b[1;33m:\u001b[0m\u001b[1;33m\u001b[0m\u001b[0m\n\u001b[0;32m--> 159\u001b[0;31m             \u001b[0mU\u001b[0m\u001b[1;33m,\u001b[0m \u001b[0mSigma\u001b[0m\u001b[1;33m,\u001b[0m \u001b[0mVT\u001b[0m \u001b[1;33m=\u001b[0m \u001b[0msvds\u001b[0m\u001b[1;33m(\u001b[0m\u001b[0mX\u001b[0m\u001b[1;33m,\u001b[0m \u001b[0mk\u001b[0m\u001b[1;33m=\u001b[0m\u001b[0mself\u001b[0m\u001b[1;33m.\u001b[0m\u001b[0mn_components\u001b[0m\u001b[1;33m,\u001b[0m \u001b[0mtol\u001b[0m\u001b[1;33m=\u001b[0m\u001b[0mself\u001b[0m\u001b[1;33m.\u001b[0m\u001b[0mtol\u001b[0m\u001b[1;33m)\u001b[0m\u001b[1;33m\u001b[0m\u001b[0m\n\u001b[0m\u001b[1;32m    160\u001b[0m             \u001b[1;31m# svds doesn't abide by scipy.linalg.svd/randomized_svd\u001b[0m\u001b[1;33m\u001b[0m\u001b[1;33m\u001b[0m\u001b[0m\n\u001b[1;32m    161\u001b[0m             \u001b[1;31m# conventions, so reverse its outputs.\u001b[0m\u001b[1;33m\u001b[0m\u001b[1;33m\u001b[0m\u001b[0m\n",
      "\u001b[0;32mC:\\Users\\pinouche\\Anaconda3\\lib\\site-packages\\scipy\\sparse\\linalg\\eigen\\arpack\\arpack.py\u001b[0m in \u001b[0;36msvds\u001b[0;34m(A, k, ncv, tol, which, v0, maxiter, return_singular_vectors)\u001b[0m\n\u001b[1;32m   1752\u001b[0m     \u001b[1;31m# This is not a stable way to approach the problem.\u001b[0m\u001b[1;33m\u001b[0m\u001b[1;33m\u001b[0m\u001b[0m\n\u001b[1;32m   1753\u001b[0m     eigvals, eigvec = eigsh(XH_X, k=k, tol=tol ** 2, maxiter=maxiter,\n\u001b[0;32m-> 1754\u001b[0;31m                                   ncv=ncv, which=which, v0=v0)\n\u001b[0m\u001b[1;32m   1755\u001b[0m \u001b[1;33m\u001b[0m\u001b[0m\n\u001b[1;32m   1756\u001b[0m     \u001b[1;31m# In 'LM' mode try to be clever about small eigenvalues.\u001b[0m\u001b[1;33m\u001b[0m\u001b[1;33m\u001b[0m\u001b[0m\n",
      "\u001b[0;32mC:\\Users\\pinouche\\Anaconda3\\lib\\site-packages\\scipy\\sparse\\linalg\\eigen\\arpack\\arpack.py\u001b[0m in \u001b[0;36meigsh\u001b[0;34m(A, k, M, sigma, which, v0, ncv, maxiter, tol, return_eigenvectors, Minv, OPinv, mode)\u001b[0m\n\u001b[1;32m   1603\u001b[0m     \u001b[1;32mwith\u001b[0m \u001b[0m_ARPACK_LOCK\u001b[0m\u001b[1;33m:\u001b[0m\u001b[1;33m\u001b[0m\u001b[0m\n\u001b[1;32m   1604\u001b[0m         \u001b[1;32mwhile\u001b[0m \u001b[1;32mnot\u001b[0m \u001b[0mparams\u001b[0m\u001b[1;33m.\u001b[0m\u001b[0mconverged\u001b[0m\u001b[1;33m:\u001b[0m\u001b[1;33m\u001b[0m\u001b[0m\n\u001b[0;32m-> 1605\u001b[0;31m             \u001b[0mparams\u001b[0m\u001b[1;33m.\u001b[0m\u001b[0miterate\u001b[0m\u001b[1;33m(\u001b[0m\u001b[1;33m)\u001b[0m\u001b[1;33m\u001b[0m\u001b[0m\n\u001b[0m\u001b[1;32m   1606\u001b[0m \u001b[1;33m\u001b[0m\u001b[0m\n\u001b[1;32m   1607\u001b[0m         \u001b[1;32mreturn\u001b[0m \u001b[0mparams\u001b[0m\u001b[1;33m.\u001b[0m\u001b[0mextract\u001b[0m\u001b[1;33m(\u001b[0m\u001b[0mreturn_eigenvectors\u001b[0m\u001b[1;33m)\u001b[0m\u001b[1;33m\u001b[0m\u001b[0m\n",
      "\u001b[0;32mC:\\Users\\pinouche\\Anaconda3\\lib\\site-packages\\scipy\\sparse\\linalg\\eigen\\arpack\\arpack.py\u001b[0m in \u001b[0;36miterate\u001b[0;34m(self)\u001b[0m\n\u001b[1;32m    545\u001b[0m             \u001b[1;31m# compute y = Op*x\u001b[0m\u001b[1;33m\u001b[0m\u001b[1;33m\u001b[0m\u001b[0m\n\u001b[1;32m    546\u001b[0m             \u001b[1;32mif\u001b[0m \u001b[0mself\u001b[0m\u001b[1;33m.\u001b[0m\u001b[0mmode\u001b[0m \u001b[1;33m==\u001b[0m \u001b[1;36m1\u001b[0m\u001b[1;33m:\u001b[0m\u001b[1;33m\u001b[0m\u001b[0m\n\u001b[0;32m--> 547\u001b[0;31m                 \u001b[0mself\u001b[0m\u001b[1;33m.\u001b[0m\u001b[0mworkd\u001b[0m\u001b[1;33m[\u001b[0m\u001b[0myslice\u001b[0m\u001b[1;33m]\u001b[0m \u001b[1;33m=\u001b[0m \u001b[0mself\u001b[0m\u001b[1;33m.\u001b[0m\u001b[0mOP\u001b[0m\u001b[1;33m(\u001b[0m\u001b[0mself\u001b[0m\u001b[1;33m.\u001b[0m\u001b[0mworkd\u001b[0m\u001b[1;33m[\u001b[0m\u001b[0mxslice\u001b[0m\u001b[1;33m]\u001b[0m\u001b[1;33m)\u001b[0m\u001b[1;33m\u001b[0m\u001b[0m\n\u001b[0m\u001b[1;32m    548\u001b[0m             \u001b[1;32melif\u001b[0m \u001b[0mself\u001b[0m\u001b[1;33m.\u001b[0m\u001b[0mmode\u001b[0m \u001b[1;33m==\u001b[0m \u001b[1;36m2\u001b[0m\u001b[1;33m:\u001b[0m\u001b[1;33m\u001b[0m\u001b[0m\n\u001b[1;32m    549\u001b[0m                 \u001b[0mself\u001b[0m\u001b[1;33m.\u001b[0m\u001b[0mworkd\u001b[0m\u001b[1;33m[\u001b[0m\u001b[0mxslice\u001b[0m\u001b[1;33m]\u001b[0m \u001b[1;33m=\u001b[0m \u001b[0mself\u001b[0m\u001b[1;33m.\u001b[0m\u001b[0mOPb\u001b[0m\u001b[1;33m(\u001b[0m\u001b[0mself\u001b[0m\u001b[1;33m.\u001b[0m\u001b[0mworkd\u001b[0m\u001b[1;33m[\u001b[0m\u001b[0mxslice\u001b[0m\u001b[1;33m]\u001b[0m\u001b[1;33m)\u001b[0m\u001b[1;33m\u001b[0m\u001b[0m\n",
      "\u001b[0;32mC:\\Users\\pinouche\\Anaconda3\\lib\\site-packages\\scipy\\sparse\\linalg\\interface.py\u001b[0m in \u001b[0;36mmatvec\u001b[0;34m(self, x)\u001b[0m\n\u001b[1;32m    217\u001b[0m             \u001b[1;32mraise\u001b[0m \u001b[0mValueError\u001b[0m\u001b[1;33m(\u001b[0m\u001b[1;34m'dimension mismatch'\u001b[0m\u001b[1;33m)\u001b[0m\u001b[1;33m\u001b[0m\u001b[0m\n\u001b[1;32m    218\u001b[0m \u001b[1;33m\u001b[0m\u001b[0m\n\u001b[0;32m--> 219\u001b[0;31m         \u001b[0my\u001b[0m \u001b[1;33m=\u001b[0m \u001b[0mself\u001b[0m\u001b[1;33m.\u001b[0m\u001b[0m_matvec\u001b[0m\u001b[1;33m(\u001b[0m\u001b[0mx\u001b[0m\u001b[1;33m)\u001b[0m\u001b[1;33m\u001b[0m\u001b[0m\n\u001b[0m\u001b[1;32m    220\u001b[0m \u001b[1;33m\u001b[0m\u001b[0m\n\u001b[1;32m    221\u001b[0m         \u001b[1;32mif\u001b[0m \u001b[0misinstance\u001b[0m\u001b[1;33m(\u001b[0m\u001b[0mx\u001b[0m\u001b[1;33m,\u001b[0m \u001b[0mnp\u001b[0m\u001b[1;33m.\u001b[0m\u001b[0mmatrix\u001b[0m\u001b[1;33m)\u001b[0m\u001b[1;33m:\u001b[0m\u001b[1;33m\u001b[0m\u001b[0m\n",
      "\u001b[0;32mC:\\Users\\pinouche\\Anaconda3\\lib\\site-packages\\scipy\\sparse\\linalg\\interface.py\u001b[0m in \u001b[0;36m_matvec\u001b[0;34m(self, x)\u001b[0m\n\u001b[1;32m    469\u001b[0m \u001b[1;33m\u001b[0m\u001b[0m\n\u001b[1;32m    470\u001b[0m     \u001b[1;32mdef\u001b[0m \u001b[0m_matvec\u001b[0m\u001b[1;33m(\u001b[0m\u001b[0mself\u001b[0m\u001b[1;33m,\u001b[0m \u001b[0mx\u001b[0m\u001b[1;33m)\u001b[0m\u001b[1;33m:\u001b[0m\u001b[1;33m\u001b[0m\u001b[0m\n\u001b[0;32m--> 471\u001b[0;31m         \u001b[1;32mreturn\u001b[0m \u001b[0mself\u001b[0m\u001b[1;33m.\u001b[0m\u001b[0m__matvec_impl\u001b[0m\u001b[1;33m(\u001b[0m\u001b[0mx\u001b[0m\u001b[1;33m)\u001b[0m\u001b[1;33m\u001b[0m\u001b[0m\n\u001b[0m\u001b[1;32m    472\u001b[0m \u001b[1;33m\u001b[0m\u001b[0m\n\u001b[1;32m    473\u001b[0m     \u001b[1;32mdef\u001b[0m \u001b[0m_rmatvec\u001b[0m\u001b[1;33m(\u001b[0m\u001b[0mself\u001b[0m\u001b[1;33m,\u001b[0m \u001b[0mx\u001b[0m\u001b[1;33m)\u001b[0m\u001b[1;33m:\u001b[0m\u001b[1;33m\u001b[0m\u001b[0m\n",
      "\u001b[0;32mC:\\Users\\pinouche\\Anaconda3\\lib\\site-packages\\scipy\\sparse\\linalg\\eigen\\arpack\\arpack.py\u001b[0m in \u001b[0;36mmatvec_XH_X\u001b[0;34m(x)\u001b[0m\n\u001b[1;32m   1744\u001b[0m \u001b[1;33m\u001b[0m\u001b[0m\n\u001b[1;32m   1745\u001b[0m     \u001b[1;32mdef\u001b[0m \u001b[0mmatvec_XH_X\u001b[0m\u001b[1;33m(\u001b[0m\u001b[0mx\u001b[0m\u001b[1;33m)\u001b[0m\u001b[1;33m:\u001b[0m\u001b[1;33m\u001b[0m\u001b[0m\n\u001b[0;32m-> 1746\u001b[0;31m         \u001b[1;32mreturn\u001b[0m \u001b[0mXH_dot\u001b[0m\u001b[1;33m(\u001b[0m\u001b[0mX_dot\u001b[0m\u001b[1;33m(\u001b[0m\u001b[0mx\u001b[0m\u001b[1;33m)\u001b[0m\u001b[1;33m)\u001b[0m\u001b[1;33m\u001b[0m\u001b[0m\n\u001b[0m\u001b[1;32m   1747\u001b[0m \u001b[1;33m\u001b[0m\u001b[0m\n\u001b[1;32m   1748\u001b[0m     XH_X = LinearOperator(matvec=matvec_XH_X, dtype=A.dtype,\n",
      "\u001b[0;31mKeyboardInterrupt\u001b[0m: "
     ]
    }
   ],
   "source": [
    "# Perform SVD decomposition and keep 500 PCs, which accounts for 3/4 of the total variance\n",
    "\n",
    "n_components = 500\n",
    "svd = decomposition.TruncatedSVD(n_components=n_components, algorithm='arpack')\n",
    "svd.fit(Big_list)\n",
    "print(svd.explained_variance_ratio_.sum())\n",
    "\n",
    "# 250 components: 67.3%, 400: 73.7%, 500: 75.4%"
   ]
  },
  {
   "cell_type": "code",
   "execution_count": null,
   "metadata": {
    "collapsed": true
   },
   "outputs": [],
   "source": [
    "# Get the new data of dimension  (number of frames * 500)\n",
    "\n",
    "svd_data_Big_list = np.dot(Big_list,np.transpose(svd.components_))\n",
    "numpy.savetxt(\"PCA_Big_list.csv\", svd_data_Big_list, delimiter=\",\")"
   ]
  },
  {
   "cell_type": "code",
   "execution_count": null,
   "metadata": {
    "collapsed": true
   },
   "outputs": [],
   "source": []
  }
 ],
 "metadata": {
  "kernelspec": {
   "display_name": "Python [default]",
   "language": "python",
   "name": "python3"
  },
  "language_info": {
   "codemirror_mode": {
    "name": "ipython",
    "version": 3
   },
   "file_extension": ".py",
   "mimetype": "text/x-python",
   "name": "python",
   "nbconvert_exporter": "python",
   "pygments_lexer": "ipython3",
   "version": "3.5.2"
  }
 },
 "nbformat": 4,
 "nbformat_minor": 2
}
