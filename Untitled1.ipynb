{
 "cells": [
  {
   "cell_type": "code",
   "execution_count": 29,
   "metadata": {
    "collapsed": false
   },
   "outputs": [],
   "source": [
    "import scipy.io as sio\n",
    "import numpy as np\n",
    "import os\n",
    "import fileinput\n",
    "import plotly.graph_objs as go\n",
    "import sklearn\n",
    "from scipy.cluster.vq import whiten\n",
    "from sklearn import cluster\n",
    "from sklearn import manifold\n",
    "from sklearn.decomposition import PCA\n",
    "from sklearn import decomposition\n",
    "import matplotlib.pyplot as plt\n",
    "import plotly.plotly as py\n",
    "from sklearn.decomposition import PCA, KernelPCA\n",
    "from sklearn.datasets import make_circles\n",
    "import plotly.graph_objs as go\n",
    "%matplotlib inline"
   ]
  },
  {
   "cell_type": "markdown",
   "metadata": {},
   "source": [
    "# Loading and formatting data"
   ]
  },
  {
   "cell_type": "code",
   "execution_count": 2,
   "metadata": {
    "collapsed": false
   },
   "outputs": [
    {
     "name": "stdout",
     "output_type": "stream",
     "text": [
      "[40, ['20120213_seq1_01_01.mat', '20120213_seq1_01_02.mat', '20120213_seq2_01_01.mat', '20120213_seq2_01_02.mat', '20120326_seq3_01_01.mat', '20120326_seq3_01_02.mat', '20120423_seq10_01_01.mat', '20120423_seq10_01_02.mat', '20120423_seq11_01_01.mat', '20120423_seq11_01_02.mat', '20120423_seq1_01_01.mat', '20120423_seq1_01_02.mat', '20120423_seq2_01_01.mat', '20120423_seq2_01_02.mat', '20120423_seq3_01_01.mat', '20120423_seq3_01_02.mat', '20120423_seq4_01_01.mat', '20120423_seq4_01_02.mat', '20120423_seq6_01_01.mat', '20120423_seq6_01_02.mat', '20120423_seq8_01_01.mat', '20120423_seq8_01_02.mat', '20120423_seq9_01_01.mat', '20120423_seq9_01_02.mat', '20120430_seq10_01_01.mat', '20120430_seq10_01_02.mat', '20120430_seq11_01_01.mat', '20120430_seq11_01_02.mat', '20120430_seq12_01_01.mat', '20120430_seq12_01_02.mat', '20120430_seq2_01_01.mat', '20120430_seq2_01_02.mat', '20120430_seq3_01_01.mat', '20120430_seq3_01_02.mat', '20120430_seq5_01_01.mat', '20120430_seq5_01_02.mat', '20120430_seq7_01_01.mat', '20120430_seq7_01_02.mat', '20120430_seq9_01_01.mat', '20120430_seq9_01_02.mat']]\n"
     ]
    }
   ],
   "source": [
    "# Open all the folders and load the data for the features data FOLD_3\n",
    "\n",
    "dic = {}\n",
    "number_of_files = 0\n",
    "name_of_files = list()\n",
    "path = r'C:/Users/pinouche/Documents/ImperialData/FOLD_3'\n",
    "\n",
    "for filename in os.listdir(path):\n",
    "    dic[filename] = sio.loadmat(path+'/'+filename)\n",
    "    number_of_files = number_of_files + 1\n",
    "    name_of_files.append(filename)\n",
    "    \n",
    "print([number_of_files,name_of_files])"
   ]
  },
  {
   "cell_type": "code",
   "execution_count": 3,
   "metadata": {
    "collapsed": false
   },
   "outputs": [
    {
     "name": "stdout",
     "output_type": "stream",
     "text": [
      "20\n"
     ]
    }
   ],
   "source": [
    "# Open the mean annotation folder and sort it to correspond to the features folders\n",
    "\n",
    "even_names_files = list()\n",
    "index = 0\n",
    "\n",
    "for name in name_of_files:\n",
    "    if(index%2 == 0):\n",
    "        even_names_files.append(name[:-10])\n",
    "    index += 1\n",
    "\n",
    "dic2 = {}\n",
    "number_of_files = 0\n",
    "path = r'C:/Users/pinouche/Documents/ImperialData/Annotations/two'\n",
    "\n",
    "for filename in even_names_files:\n",
    "    dic2[filename] = sio.loadmat(path+'/'+filename+'/'+'meanAnnotation.mat')\n",
    "    number_of_files = number_of_files + 1\n",
    "    \n",
    "print(number_of_files)\n",
    "\n",
    "sequences_shape = list()\n",
    "mean_annotations = list()\n",
    "\n",
    "for filename in even_names_files:\n",
    "    mean_annotations.append(dic2[filename]['annotations'])\n",
    "    sequences_shape.append(dic2[filename]['annotations'].shape[0])\n",
    "\n",
    "array_annotations = np.concatenate(np.asarray(mean_annotations), axis=0)"
   ]
  },
  {
   "cell_type": "code",
   "execution_count": 4,
   "metadata": {
    "collapsed": false
   },
   "outputs": [],
   "source": [
    "# Getting the features data into usable matrix format\n",
    "\n",
    "def dataMatrix(array1, array2):\n",
    "\n",
    "    person1 = list()\n",
    "    person2 = list()\n",
    "\n",
    "    for frame in range(0, array1.shape[2]):\n",
    "        for sift in range(0,49):\n",
    "            person1.append(array1[sift,:,frame])\n",
    "            person2.append(array2[sift,:,frame])\n",
    "\n",
    "    tmp_arr_mat1 = np.reshape(np.asarray(person1),(array1.shape[2],6272))\n",
    "    tmp_arr_mat2 = np.reshape(np.asarray(person2),(array2.shape[2],6272))\n",
    "    frame_vector = np.concatenate([tmp_arr_mat1,tmp_arr_mat2], axis=1)\n",
    "    \n",
    "    return(frame_vector)\n"
   ]
  },
  {
   "cell_type": "code",
   "execution_count": 5,
   "metadata": {
    "collapsed": false
   },
   "outputs": [
    {
     "name": "stdout",
     "output_type": "stream",
     "text": [
      "(20640, 12544)\n"
     ]
    }
   ],
   "source": [
    "# Get all the values from the SIFT values for each of the frame from the dictionnary\n",
    "\n",
    "key=0\n",
    "concat = []\n",
    "\n",
    "for val in name_of_files:\n",
    "    if(key%2 == 0):\n",
    "        person1 = dic[val]['SIFT']\n",
    "    else:\n",
    "        person2 = dic[val]['SIFT']\n",
    "        concat.append(dataMatrix(person1, dic[val]['SIFT']))\n",
    "    key +=1\n",
    "        \n",
    "Big_list = np.concatenate(concat)\n",
    "print(Big_list.shape)\n",
    "\n",
    "# The dimensions of the Big_list (data matrix) is 20640 by 12544"
   ]
  },
  {
   "cell_type": "markdown",
   "metadata": {
    "collapsed": false
   },
   "source": [
    "# Data Visualisation and dimensionality reduction"
   ]
  },
  {
   "cell_type": "code",
   "execution_count": 6,
   "metadata": {
    "collapsed": false
   },
   "outputs": [
    {
     "data": {
      "image/png": "[encoded data removed]",
      "text/plain": [
       "<matplotlib.figure.Figure at 0x1ec05c61390>"
      ]
     },
     "metadata": {},
     "output_type": "display_data"
    }
   ],
   "source": [
    "# Plots the annotation for a whole video sequence as an example\n",
    "\n",
    "mean_contents1 = sio.loadmat('meanAnnotation.mat')\n",
    "mean_annotation_value = list(mean_contents1[\"annotations\"])\n",
    "\n",
    "range_array = np.asarray(list(range(0, len(mean_annotation_value), 1)))\n",
    "annot_array = np.asarray(mean_annotation_value)\n",
    "\n",
    "fig = plt.figure(figsize=(17, 6))\n",
    "plt.plot(range_array , annot_array, 'ro')\n",
    "plt.axis([0,len(mean_annotation_value), 0, 1])\n",
    "fig.suptitle('Mean conflict intensity between the 2 participants')\n",
    "plt.xlabel('Number of frames')\n",
    "plt.ylabel('Conflict intensity')\n",
    "plt.show()"
   ]
  },
  {
   "cell_type": "markdown",
   "metadata": {},
   "source": [
    "# Concatenating the matrix with the 2 people (resulting in a 20640 * 12544)"
   ]
  },
  {
   "cell_type": "code",
   "execution_count": 6,
   "metadata": {
    "collapsed": false
   },
   "outputs": [
    {
     "name": "stdout",
     "output_type": "stream",
     "text": [
      "0.754313549535\n"
     ]
    }
   ],
   "source": [
    "# Perform SVD decomposition and keep 500 PCs, which accounts for 3/4 of the total variance\n",
    "\n",
    "n_components = 500\n",
    "svd = decomposition.TruncatedSVD(n_components=n_components, algorithm='arpack')\n",
    "svd.fit(Big_list)\n",
    "print(svd.explained_variance_ratio_.sum())\n",
    "\n",
    "# 250 components: 67.3%, 400: 73.7%, 500: 75.4%"
   ]
  },
  {
   "cell_type": "code",
   "execution_count": 7,
   "metadata": {
    "collapsed": false
   },
   "outputs": [],
   "source": [
    "# Get the new data of dimension  (number of frames * 500)\n",
    "\n",
    "svd_data_Big_list = np.dot(Big_list,np.transpose(svd.components_))"
   ]
  },
  {
   "cell_type": "code",
   "execution_count": 45,
   "metadata": {
    "collapsed": true
   },
   "outputs": [],
   "source": [
    "import plotly \n",
    "plotly.tools.set_credentials_file(username='pinouche', api_key='lNAc8TgFyighg1amN5jI')"
   ]
  },
  {
   "cell_type": "code",
   "execution_count": 9,
   "metadata": {
    "collapsed": false
   },
   "outputs": [],
   "source": [
    "# Using t-sne on the PCA data to visualize the data\n",
    "\n",
    "sampled_rows_Big_list = svd_data_Big_list[np.random.choice(svd_data_Big_list.shape[0], 10000, replace=False), :]\n",
    "tsne_svd = manifold.TSNE(n_components=3, verbose=0, perplexity=30, n_iter=2500) \n",
    "tsne_results_svd = tsne_svd.fit_transform(sampled_rows_Big_list) "
   ]
  },
  {
   "cell_type": "code",
   "execution_count": 118,
   "metadata": {
    "collapsed": false
   },
   "outputs": [
    {
     "name": "stdout",
     "output_type": "stream",
     "text": [
      "High five! You successfuly sent some data to your account on plotly. View your plot in your browser at https://plot.ly/~pinouche/0 or inside your plot.ly account where it is named 't-SNE PCA with k-Means'\n"
     ]
    },
    {
     "data": {
      "text/html": [
       "<iframe id=\"igraph\" scrolling=\"no\" style=\"border:none;\" seamless=\"seamless\" src=\"https://plot.ly/~pinouche/0.embed\" height=\"525px\" width=\"100%\"></iframe>"
      ],
      "text/plain": [
       "<plotly.tools.PlotlyDisplay object>"
      ]
     },
     "execution_count": 118,
     "metadata": {},
     "output_type": "execute_result"
    }
   ],
   "source": [
    "# Plot the clusters from the k-means in the 3 dimensional space computed by the t-sne. One could imagine that the clusters would \n",
    "# correspond to various emotional states of the two people interacting (i,e: smiling, being angry, neutral).\n",
    "\n",
    "kmeans = cluster.KMeans(n_clusters=5) # k-means\n",
    "kmeans.fit(sampled_rows_Big_list)\n",
    "\n",
    "c = kmeans.labels_\n",
    "x = tsne_results_svd[:,0]\n",
    "y = tsne_results_svd[:,1]\n",
    "z = tsne_results_svd[:,2]\n",
    "t = [[str(x[0])] for x in array_annotations]\n",
    "\n",
    "trace1 = go.Scatter3d(x=x,y=y,z=z,text=t, mode='markers',marker=dict(size=12,color=c, colorscale = 'Viridis', opacity=0.8))\n",
    "data = [trace1]\n",
    "layout = go.Layout(margin=dict(l=0,r=0,b=0,t=0))\n",
    "fig = go.Figure(data=data, layout=layout)\n",
    "py.iplot(fig, filename='t-SNE PCA with k-Means')"
   ]
  },
  {
   "cell_type": "markdown",
   "metadata": {},
   "source": [
    "# Using the mean of features for the 2 people (resulting in a 20640 * 6272)"
   ]
  },
  {
   "cell_type": "code",
   "execution_count": 7,
   "metadata": {
    "collapsed": false
   },
   "outputs": [
    {
     "name": "stdout",
     "output_type": "stream",
     "text": [
      "[(20640, 6272), (20640, 6272)]\n"
     ]
    }
   ],
   "source": [
    "# Instead of concatenating together the vectors for the 2 people, use the average for the data matrix. Note that later on,\n",
    "# the response we have for each frame is the same for the 2 people (i.e there is a conflict intensity for the overall \n",
    "# interaction and not a seperated conflict value for each of the interlocutors). So this approach may be a better way.\n",
    "\n",
    "Person1_columns = Big_list[:,:(49*128)]\n",
    "Person2_columns = Big_list[:,(49*128):]\n",
    "print([Person1_columns.shape,Person2_columns.shape])\n",
    "Average_Big_list= (Person1_columns + Person2_columns)/2"
   ]
  },
  {
   "cell_type": "code",
   "execution_count": 39,
   "metadata": {
    "collapsed": true
   },
   "outputs": [],
   "source": [
    "# whiten the data \n",
    "\n",
    "whitened_data = whiten(Average_Big_list)\n",
    "\n",
    "def svd_whiten(X):\n",
    "    U, s, Vt = np.linalg.svd(X, full_matrices=False)\n",
    "    X_white = np.dot(U, Vt)\n",
    "\n",
    "    return X_white"
   ]
  },
  {
   "cell_type": "code",
   "execution_count": 40,
   "metadata": {
    "collapsed": false
   },
   "outputs": [
    {
     "name": "stdout",
     "output_type": "stream",
     "text": [
      "0.795201480072\n"
     ]
    }
   ],
   "source": [
    "# PCA on the new matrix\n",
    "\n",
    "n_components = 500\n",
    "svd = decomposition.TruncatedSVD(n_components=n_components, algorithm='arpack')\n",
    "svd.fit(whitened_data)\n",
    "print(svd.explained_variance_ratio_.sum())\n",
    "\n",
    "# 500 components: 81%"
   ]
  },
  {
   "cell_type": "code",
   "execution_count": 41,
   "metadata": {
    "collapsed": false
   },
   "outputs": [],
   "source": [
    "# Get the new data of dimension  (number of frames * 500)\n",
    "\n",
    "svd_data = np.dot(Average_Big_list,np.transpose(svd.components_))"
   ]
  },
  {
   "cell_type": "code",
   "execution_count": 42,
   "metadata": {
    "collapsed": false
   },
   "outputs": [],
   "source": [
    "# Using t-sne on the PCA data to visualize the data (only on 10000 data points for speed purposes)\n",
    "\n",
    "random_indices = np.random.choice(svd_data.shape[0], 10000, replace=False)\n",
    "sampled_rows = svd_data[random_indices, :]\n",
    "sampled_annotations = array_annotations[random_indices, :]\n",
    "tsne_svd = manifold.TSNE(n_components=2, verbose=0, perplexity=30, n_iter=2500) \n",
    "tsne_results_svd = tsne_svd.fit_transform(sampled_rows) \n"
   ]
  },
  {
   "cell_type": "code",
   "execution_count": 18,
   "metadata": {
    "collapsed": false
   },
   "outputs": [
    {
     "ename": "AttributeError",
     "evalue": "module 'pickleshare' has no attribute 'dump'",
     "output_type": "error",
     "traceback": [
      "\u001b[0;31m---------------------------------------------------------------------------\u001b[0m",
      "\u001b[0;31mAttributeError\u001b[0m                            Traceback (most recent call last)",
      "\u001b[0;32m<ipython-input-18-06883089ee73>\u001b[0m in \u001b[0;36m<module>\u001b[0;34m()\u001b[0m\n\u001b[1;32m      5\u001b[0m \u001b[1;31m# Saving the objects:\u001b[0m\u001b[1;33m\u001b[0m\u001b[1;33m\u001b[0m\u001b[0m\n\u001b[1;32m      6\u001b[0m \u001b[1;32mwith\u001b[0m \u001b[0mopen\u001b[0m\u001b[1;33m(\u001b[0m\u001b[1;34m'tsne_results_svd.pickle'\u001b[0m\u001b[1;33m,\u001b[0m \u001b[1;34m'wb'\u001b[0m\u001b[1;33m)\u001b[0m \u001b[1;32mas\u001b[0m \u001b[0mf\u001b[0m\u001b[1;33m:\u001b[0m  \u001b[1;31m# Python 3: open(..., 'wb')\u001b[0m\u001b[1;33m\u001b[0m\u001b[0m\n\u001b[0;32m----> 7\u001b[0;31m     \u001b[0mpickleshare\u001b[0m\u001b[1;33m.\u001b[0m\u001b[0mdump\u001b[0m\u001b[1;33m(\u001b[0m\u001b[0mtsne_results_svd\u001b[0m\u001b[1;33m.\u001b[0m\u001b[0mpickle\u001b[0m\u001b[1;33m,\u001b[0m \u001b[0mf\u001b[0m\u001b[1;33m)\u001b[0m\u001b[1;33m\u001b[0m\u001b[0m\n\u001b[0m\u001b[1;32m      8\u001b[0m \u001b[1;33m\u001b[0m\u001b[0m\n\u001b[1;32m      9\u001b[0m \u001b[1;31m# Getting back the objects:\u001b[0m\u001b[1;33m\u001b[0m\u001b[1;33m\u001b[0m\u001b[0m\n",
      "\u001b[0;31mAttributeError\u001b[0m: module 'pickleshare' has no attribute 'dump'"
     ]
    }
   ],
   "source": [
    "import pickle\n",
    "\n",
    "# obj0, obj1, obj2 are created here...\n",
    "\n",
    "# Saving the objects:\n",
    "with open('tsne_results_svd.pickle', 'wb') as f:  # Python 3: open(..., 'wb')\n",
    "    pickle.dump(tsne_results_svd.pickle, f)\n",
    "\n",
    "# Getting back the objects:\n",
    "with open('tsne_results_svd.pickle', 'rb') as f:  # Python 3: open(..., 'rb')\n",
    "    tsne_results_svd = pickle.load(f)"
   ]
  },
  {
   "cell_type": "code",
   "execution_count": 43,
   "metadata": {
    "collapsed": false
   },
   "outputs": [
    {
     "name": "stdout",
     "output_type": "stream",
     "text": [
      "High five! You successfuly sent some data to your account on plotly. View your plot in your browser at https://plot.ly/~pinouche/0 or inside your plot.ly account where it is named 't-SNE PCA with k-Means'\n"
     ]
    },
    {
     "data": {
      "text/html": [
       "<iframe id=\"igraph\" scrolling=\"no\" style=\"border:none;\" seamless=\"seamless\" src=\"https://plot.ly/~pinouche/0.embed\" height=\"525px\" width=\"100%\"></iframe>"
      ],
      "text/plain": [
       "<plotly.tools.PlotlyDisplay object>"
      ]
     },
     "execution_count": 43,
     "metadata": {},
     "output_type": "execute_result"
    }
   ],
   "source": [
    "kmeans = cluster.KMeans(n_clusters=3) # k-means\n",
    "kmeans.fit(sampled_rows)\n",
    "\n",
    "c = kmeans.labels_\n",
    "x = tsne_results_svd[:,0]\n",
    "y = tsne_results_svd[:,1]\n",
    "#z = tsne_results_svd[:,2]\n",
    "t = [str(s[0]) for s in sampled_annotations]\n",
    "\n",
    "trace1 = go.Scatter(x=x,y=y,text=t, mode='markers',marker=dict(size=12,color=c, colorscale = 'Viridis', opacity=0.8))\n",
    "data = [trace1]\n",
    "layout = go.Layout(margin=dict(l=0,r=0,b=0,t=0))\n",
    "fig = go.Figure(data=data, layout=layout)\n",
    "py.iplot(fig, filename='t-SNE PCA with k-Means')"
   ]
  },
  {
   "cell_type": "code",
   "execution_count": 126,
   "metadata": {
    "collapsed": false
   },
   "outputs": [
    {
     "name": "stderr",
     "output_type": "stream",
     "text": [
      "C:\\Users\\pinouche\\Anaconda3\\lib\\site-packages\\ipykernel\\__main__.py:1: DeprecationWarning:\n",
      "\n",
      "elementwise == comparison failed; this will raise an error in the future.\n",
      "\n"
     ]
    }
   ],
   "source": []
  },
  {
   "cell_type": "markdown",
   "metadata": {},
   "source": [
    "# Kernel PCA on the two different data sets defined above"
   ]
  },
  {
   "cell_type": "code",
   "execution_count": null,
   "metadata": {
    "collapsed": true
   },
   "outputs": [],
   "source": [
    "#  Transform the data with an RBF Gaussian kernal and perform PCA\n",
    "\n",
    "'This is too slow at the moment, need the google cloud to perhaps make it work'\n",
    "\n",
    "n_components = 20\n",
    "kpca = KernelPCA(kernel=\"rbf\",n_components=n_components, gamma=10)\n",
    "X_kpca = kpca.fit_transform(Average_Big_list)\n"
   ]
  },
  {
   "cell_type": "markdown",
   "metadata": {
    "collapsed": false
   },
   "source": [
    "# Variational autoencoder to reduce the dimension further and denoise the PCA data further"
   ]
  },
  {
   "cell_type": "code",
   "execution_count": 8,
   "metadata": {
    "collapsed": false
   },
   "outputs": [
    {
     "name": "stderr",
     "output_type": "stream",
     "text": [
      "Using TensorFlow backend.\n"
     ]
    }
   ],
   "source": [
    "from scipy.stats import norm\n",
    "from keras.layers import Input, Dense, Lambda, Layer\n",
    "from keras.models import Model\n",
    "from keras import backend as K\n",
    "from keras import metrics\n",
    "from keras.datasets import mnist"
   ]
  },
  {
   "cell_type": "code",
   "execution_count": 11,
   "metadata": {
    "collapsed": true
   },
   "outputs": [],
   "source": [
    "# Define the constants needed in the VAE (hidden layers size, latent dimension, batch size for training\n",
    "# the neural network using stochastic gradient descent and the number of loops over all the training set: epochs).\n",
    "\n",
    "batch_size = 50\n",
    "original_dim = 784\n",
    "latent_dim = 2\n",
    "intermediate_dim = 256\n",
    "epochs = 50\n",
    "epsilon_std = 1.0 # standard deviation to be used in the reparametrization trick"
   ]
  },
  {
   "cell_type": "code",
   "execution_count": 12,
   "metadata": {
    "collapsed": false
   },
   "outputs": [],
   "source": [
    "# Define the input and the hidden units activation function and define the output of the hidden units to be the\n",
    "# Gaussian parameters of the latent random variable. This is the encoder network.\n",
    "\n",
    "x = Input(batch_shape=(batch_size, original_dim))\n",
    "h = Dense(intermediate_dim, activation='relu')(x)\n",
    "z_mean = Dense(latent_dim)(h)\n",
    "z_log_sigma = Dense(latent_dim)(h)"
   ]
  },
  {
   "cell_type": "code",
   "execution_count": 13,
   "metadata": {
    "collapsed": true
   },
   "outputs": [],
   "source": [
    "# Define a function which samples from the normal distribution with the parameters obtained from the neural network\n",
    "# and return the repametrization trick.\n",
    "\n",
    "def sampling(args):\n",
    "    z_mean, z_log_sigma = args\n",
    "    epsilon = K.random_normal(shape=(batch_size, latent_dim),\n",
    "                              mean=0., std=epsilon_std)\n",
    "    return z_mean + K.exp(z_log_sigma) * epsilon\n",
    "\n",
    "z = Lambda(sampling, output_shape=(latent_dim,))([z_mean, z_log_sigma])"
   ]
  },
  {
   "cell_type": "code",
   "execution_count": null,
   "metadata": {
    "collapsed": true
   },
   "outputs": [],
   "source": [
    "# Define the decoder network. The hidden layer takes z as input\n",
    "\n",
    "decoder_h = Dense(intermediate_dim, activation='relu')\n",
    "decoder_mean = Dense(original_dim, activation='sigmoid')\n",
    "h_decoded = decoder_h(z)\n",
    "x_decoded_mean = decoder_mean(h_decoded)"
   ]
  },
  {
   "cell_type": "code",
   "execution_count": null,
   "metadata": {
    "collapsed": true
   },
   "outputs": [],
   "source": [
    "# end-to-end autoencoder\n",
    "vae = Model(x, x_decoded_mean)\n",
    "\n",
    "# encoder, from inputs to latent space\n",
    "encoder = Model(x, z_mean)\n",
    "\n",
    "# generator, from latent space to reconstructed inputs\n",
    "decoder_input = Input(shape=(latent_dim,))\n",
    "_h_decoded = decoder_h(decoder_input)\n",
    "_x_decoded_mean = decoder_mean(_h_decoded)\n",
    "generator = Model(decoder_input, _x_decoded_mean)"
   ]
  },
  {
   "cell_type": "code",
   "execution_count": null,
   "metadata": {
    "collapsed": true
   },
   "outputs": [],
   "source": [
    "# Define the loss function as a function of the latent x (output of the encoder neural net) and the reconstructed input\n",
    "# x_decoded_mean (output of the decoder neural net). Here we have that both the encoder and likelihood are normal with\n",
    "# parameters defined by the two neural networks\n",
    "\n",
    "def vae_loss(x, x_decoded_mean):\n",
    "    xent_loss = objectives.binary_crossentropy(x, x_decoded_mean)\n",
    "    kl_loss = - 0.5 * K.mean(1 + z_log_sigma - K.square(z_mean) - K.exp(z_log_sigma), axis=-1)\n",
    "    return xent_loss + kl_loss\n",
    "\n",
    "vae.compile(optimizer='rmsprop', loss=vae_loss)"
   ]
  },
  {
   "cell_type": "code",
   "execution_count": null,
   "metadata": {
    "collapsed": true
   },
   "outputs": [],
   "source": [
    "# train the data and test\n",
    "\n",
    "(x_train, y_train), (x_test, y_test) = mnist.load_data()\n",
    "\n",
    "x_train = x_train.astype('float32') / 255.\n",
    "x_test = x_test.astype('float32') / 255.\n",
    "x_train = x_train.reshape((len(x_train), np.prod(x_train.shape[1:])))\n",
    "x_test = x_test.reshape((len(x_test), np.prod(x_test.shape[1:])))\n",
    "\n",
    "vae.fit(x_train, x_train,\n",
    "        shuffle=True,\n",
    "        epochs=epochs,\n",
    "        batch_size=batch_size,\n",
    "        validation_data=(x_test, x_test))"
   ]
  },
  {
   "cell_type": "code",
   "execution_count": null,
   "metadata": {
    "collapsed": true
   },
   "outputs": [],
   "source": [
    "x_test_encoded = encoder.predict(x_test, batch_size=batch_size)\n",
    "plt.figure(figsize=(6, 6))\n",
    "plt.scatter(x_test_encoded[:, 0], x_test_encoded[:, 1], c=y_test)\n",
    "plt.colorbar()\n",
    "plt.show()"
   ]
  }
 ],
 "metadata": {
  "kernelspec": {
   "display_name": "Python [default]",
   "language": "python",
   "name": "python3"
  },
  "language_info": {
   "codemirror_mode": {
    "name": "ipython",
    "version": 3
   },
   "file_extension": ".py",
   "mimetype": "text/x-python",
   "name": "python",
   "nbconvert_exporter": "python",
   "pygments_lexer": "ipython3",
   "version": "3.5.2"
  }
 },
 "nbformat": 4,
 "nbformat_minor": 2
}
